{
 "cells": [
  {
   "cell_type": "code",
   "execution_count": 1,
   "metadata": {},
   "outputs": [],
   "source": [
    "import cv2"
   ]
  },
  {
   "cell_type": "code",
   "execution_count": 4,
   "metadata": {},
   "outputs": [],
   "source": [
    "cube0 = cv2.imread(\"cube.png\")\n",
    "cv2.imshow(\"cube0\", cube0) #显示魔方图案\n",
    "cv2.waitKey(0)  \n",
    "cv2.destroyWindow(\"cube0\")"
   ]
  },
  {
   "cell_type": "code",
   "execution_count": 5,
   "metadata": {},
   "outputs": [],
   "source": [
    "img_gray = cv2.cvtColor(cube0, cv2.COLOR_BGR2GRAY) #图像灰度处理\n",
    "ret, img_binary = cv2.threshold(img_gray, 127, 255, cv2.THRESH_BINARY) #图像二值化处理\n",
    "\n"
   ]
  },
  {
   "cell_type": "code",
   "execution_count": 10,
   "metadata": {},
   "outputs": [
    {
     "name": "stdout",
     "output_type": "stream",
     "text": [
      "[[[-1 -1  1 -1]\n",
      "  [-1 -1  2  0]\n",
      "  [ 3 -1 -1  1]\n",
      "  [ 4  2 -1  1]\n",
      "  [ 5  3 -1  1]\n",
      "  [ 6  4 -1  1]\n",
      "  [ 7  5 -1  1]\n",
      "  [ 8  6 -1  1]\n",
      "  [ 9  7 -1  1]\n",
      "  [10  8 -1  1]\n",
      "  [-1  9 -1  1]]]\n"
     ]
    }
   ],
   "source": [
    "contours, hierarchy = cv2.findContours(img_binary, cv2.RETR_TREE, cv2.CHAIN_APPROX_SIMPLE)\n",
    "#print(len(contours))\n",
    "#print(contours)\n",
    "#print(contours[0])\\\n",
    "print(hierarchy)"
   ]
  }
 ],
 "metadata": {
  "kernelspec": {
   "display_name": "py311",
   "language": "python",
   "name": "python3"
  },
  "language_info": {
   "codemirror_mode": {
    "name": "ipython",
    "version": 3
   },
   "file_extension": ".py",
   "mimetype": "text/x-python",
   "name": "python",
   "nbconvert_exporter": "python",
   "pygments_lexer": "ipython3",
   "version": "3.11.4"
  },
  "orig_nbformat": 4
 },
 "nbformat": 4,
 "nbformat_minor": 2
}
